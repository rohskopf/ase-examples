{
 "cells": [
  {
   "cell_type": "code",
   "execution_count": 1,
   "metadata": {},
   "outputs": [],
   "source": [
    "import numpy as np\n",
    "import random\n",
    "from ase.io import read\n",
    "from mpi4py import MPI\n",
    "from ase import Atom\n",
    "from ase.visualize import view"
   ]
  },
  {
   "cell_type": "code",
   "execution_count": 26,
   "metadata": {},
   "outputs": [],
   "source": [
    "frames = read(f\"../../Ta_XYZ/XYZ/Displaced_BCC.xyz\", \":\")\n",
    "atoms = frames[0]"
   ]
  },
  {
   "cell_type": "code",
   "execution_count": 27,
   "metadata": {},
   "outputs": [
    {
     "name": "stdout",
     "output_type": "stream",
     "text": [
      "9.96000003815\n"
     ]
    }
   ],
   "source": [
    "xlength = atoms.cell[0][0]\n",
    "print(xlength)"
   ]
  },
  {
   "cell_type": "code",
   "execution_count": 28,
   "metadata": {},
   "outputs": [
    {
     "name": "stdout",
     "output_type": "stream",
     "text": [
      "Cell([19.9200000763, 9.96000003815, 9.96000003815])\n"
     ]
    }
   ],
   "source": [
    "# Create vacuum in x-direction, e.g. multiply current length by 2.\n",
    "atoms.cell[0][0] *= 2\n",
    "print(atoms.cell)"
   ]
  },
  {
   "cell_type": "code",
   "execution_count": 30,
   "metadata": {},
   "outputs": [
    {
     "data": {
      "text/plain": [
       "<Popen: returncode: None args: ['/Users/adrohsk/miniconda3/envs/fitsnap/bin/...>"
      ]
     },
     "execution_count": 30,
     "metadata": {},
     "output_type": "execute_result"
    }
   ],
   "source": [
    "# Add an atom somewhere ~1.5 A above the original xlength.\n",
    "\n",
    "from ase import Atom\n",
    "a1 = Atom('Si', position=(xlength+1.5,1.0,1.0)) # Change the coordinates as you please\n",
    "a2 = Atom('O', position=(xlength+1.5,2.0,2.0))\n",
    "atoms.extend(a1)\n",
    "atoms.extend(a2)\n",
    "view(atoms)"
   ]
  },
  {
   "cell_type": "code",
   "execution_count": 31,
   "metadata": {},
   "outputs": [],
   "source": [
    "# Now write as a POSCAR\n",
    "from ase.io import write\n",
    "write(\"POSCAR.surface\", atoms)"
   ]
  }
 ],
 "metadata": {
  "kernelspec": {
   "display_name": "fitsnap",
   "language": "python",
   "name": "python3"
  },
  "language_info": {
   "codemirror_mode": {
    "name": "ipython",
    "version": 3
   },
   "file_extension": ".py",
   "mimetype": "text/x-python",
   "name": "python",
   "nbconvert_exporter": "python",
   "pygments_lexer": "ipython3",
   "version": "3.10.11"
  },
  "orig_nbformat": 4
 },
 "nbformat": 4,
 "nbformat_minor": 2
}
